{
 "cells": [
  {
   "cell_type": "code",
   "execution_count": 1,
   "metadata": {},
   "outputs": [],
   "source": [
    "import pandas as pd\n",
    "\n",
    "# Read the dataset into a pandas DataFrame\n",
    "def read_dataset() -> pd.DataFrame:\n",
    "    return pd.read_csv(\"./TMDB_movie_dataset_v11.csv\")\n",
    "\n",
    "def clean_dataset(dataframe: pd.DataFrame) -> pd.DataFrame:\n",
    "    dataframe['overview'] = dataframe['overview'].fillna('')\n",
    "    return dataframe.drop_duplicates(subset='title', keep='first', inplace=True)\n",
    "\n",
    "pd.set_option('display.max_rows', 500)\n",
    "\n",
    "# Read the dataset into a pandas DataFrame and clean it\n",
    "dataframe = read_dataset()\n",
    "dataframe.drop_duplicates(subset='title', keep='first', inplace=True)\n",
    "\n",
    "# Fill missing values for the columns we are interested in\n",
    "dataframe['overview'] = dataframe['overview'].fillna('')\n",
    "dataframe['genres'] = dataframe['genres'].fillna('')\n",
    "dataframe['keywords'] = dataframe['keywords'].fillna('')\n",
    "dataframe['original_language'] = dataframe['original_language'].fillna('')\n"
   ]
  },
  {
   "cell_type": "code",
   "execution_count": 2,
   "metadata": {},
   "outputs": [
    {
     "name": "stdout",
     "output_type": "stream",
     "text": [
      "Index(['id', 'title', 'vote_average', 'vote_count', 'status', 'release_date',\n",
      "       'revenue', 'runtime', 'adult', 'backdrop_path', 'budget', 'homepage',\n",
      "       'imdb_id', 'original_language', 'original_title', 'overview',\n",
      "       'popularity', 'poster_path', 'tagline', 'genres',\n",
      "       'production_companies', 'production_countries', 'spoken_languages',\n",
      "       'keywords'],\n",
      "      dtype='object')\n",
      "0    rescue, mission, dream, airplane, paris, franc...\n",
      "Name: keywords, dtype: object\n"
     ]
    }
   ],
   "source": [
    "print(dataframe.columns)\n",
    "print(dataframe.head(1)['keywords'])\n"
   ]
  },
  {
   "cell_type": "code",
   "execution_count": 3,
   "metadata": {},
   "outputs": [
    {
     "name": "stdout",
     "output_type": "stream",
     "text": [
      "Cobb, a skilled thief who commits corporate espionage by infiltrating the subconscious of his targets is offered a chance to regain his old life as payment for a task considered to be impossible: \"inception\", the implantation of another person's idea into a target's subconscious. Action, Science Fiction, Adventure rescue, mission, dream, airplane, paris, france, virtual reality, kidnapping, philosophy, spy, allegory, manipulation, car crash, heist, memory, architecture, los angeles, california, dream world, subconscious en 8.364 34495\n"
     ]
    }
   ],
   "source": [
    "# Combine features into a single string including vote average and vote count separated by a space\n",
    "dataframe['combined_features'] = dataframe['overview'] + ' ' + dataframe['genres'] + ' ' + dataframe['keywords'] + ' ' + dataframe['original_language'] + ' ' + dataframe['vote_average'].astype(str) + ' ' + dataframe['vote_count'].astype(str)\n",
    "print(dataframe.head(1)['combined_features'].values[0])"
   ]
  },
  {
   "cell_type": "code",
   "execution_count": 4,
   "metadata": {},
   "outputs": [
    {
     "name": "stdout",
     "output_type": "stream",
     "text": [
      "(898302, 387358)\n"
     ]
    }
   ],
   "source": [
    "# Use TF-IDF Vectorizer\n",
    "from sklearn.feature_extraction.text import TfidfVectorizer\n",
    "\n",
    "tfidf = TfidfVectorizer(stop_words='english')\n",
    "tfidf_matrix = tfidf.fit_transform(dataframe['combined_features'])\n",
    "\n",
    "# Check the shape of the TF-IDF matrix\n",
    "print(tfidf_matrix.shape)"
   ]
  },
  {
   "cell_type": "code",
   "execution_count": 5,
   "metadata": {},
   "outputs": [
    {
     "ename": "",
     "evalue": "",
     "output_type": "error",
     "traceback": [
      "\u001b[1;31mThe Kernel crashed while executing code in the current cell or a previous cell. \n",
      "\u001b[1;31mPlease review the code in the cell(s) to identify a possible cause of the failure. \n",
      "\u001b[1;31mClick <a href='https://aka.ms/vscodeJupyterKernelCrash'>here</a> for more info. \n",
      "\u001b[1;31mView Jupyter <a href='command:jupyter.viewOutput'>log</a> for further details."
     ]
    }
   ],
   "source": [
    "from sklearn.metrics.pairwise import cosine_similarity\n",
    "\n",
    "cosine_sim = cosine_similarity(tfidf_matrix, tfidf_matrix)\n"
   ]
  },
  {
   "cell_type": "code",
   "execution_count": null,
   "metadata": {},
   "outputs": [],
   "source": []
  }
 ],
 "metadata": {
  "kernelspec": {
   "display_name": "base",
   "language": "python",
   "name": "python3"
  },
  "language_info": {
   "codemirror_mode": {
    "name": "ipython",
    "version": 3
   },
   "file_extension": ".py",
   "mimetype": "text/x-python",
   "name": "python",
   "nbconvert_exporter": "python",
   "pygments_lexer": "ipython3",
   "version": "3.11.7"
  }
 },
 "nbformat": 4,
 "nbformat_minor": 2
}
